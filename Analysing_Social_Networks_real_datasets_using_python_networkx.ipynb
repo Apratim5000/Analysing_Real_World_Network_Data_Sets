{
 "cells": [
  {
   "cell_type": "markdown",
   "metadata": {},
   "source": [
    "## First import the modules networkx and matplotlib\n",
    "### Networkx module to read the data sets in a graphical format\n",
    "### Matplotlib to visualize the data sets"
   ]
  },
  {
   "cell_type": "code",
   "execution_count": 1,
   "metadata": {},
   "outputs": [],
   "source": [
    "import networkx as nx\n",
    "import matplotlib.pyplot as plt"
   ]
  },
  {
   "cell_type": "markdown",
   "metadata": {},
   "source": [
    "### Read and load the file facebook_comments.txt into memory"
   ]
  },
  {
   "cell_type": "code",
   "execution_count": 2,
   "metadata": {},
   "outputs": [],
   "source": [
    "FbGraph = nx.read_edgelist('facebook_combined.txt.gz')"
   ]
  },
  {
   "cell_type": "markdown",
   "metadata": {},
   "source": [
    "### Get basic information for FbGraph"
   ]
  },
  {
   "cell_type": "code",
   "execution_count": 3,
   "metadata": {
    "scrolled": true
   },
   "outputs": [
    {
     "name": "stdout",
     "output_type": "stream",
     "text": [
      "Name: \n",
      "Type: Graph\n",
      "Number of nodes: 4039\n",
      "Number of edges: 88234\n",
      "Average degree:  43.6910\n"
     ]
    }
   ],
   "source": [
    "print(nx.info(FbGraph))"
   ]
  },
  {
   "cell_type": "markdown",
   "metadata": {},
   "source": [
    "### Get Number of Nodes for FbGraph"
   ]
  },
  {
   "cell_type": "code",
   "execution_count": 4,
   "metadata": {},
   "outputs": [
    {
     "name": "stdout",
     "output_type": "stream",
     "text": [
      "4039\n"
     ]
    }
   ],
   "source": [
    "print(nx.number_of_nodes(FbGraph))"
   ]
  },
  {
   "cell_type": "markdown",
   "metadata": {},
   "source": [
    "### Get Number of Edges for FbGraph"
   ]
  },
  {
   "cell_type": "code",
   "execution_count": 5,
   "metadata": {},
   "outputs": [
    {
     "name": "stdout",
     "output_type": "stream",
     "text": [
      "88234\n"
     ]
    }
   ],
   "source": [
    "print(nx.number_of_edges(FbGraph))"
   ]
  },
  {
   "cell_type": "markdown",
   "metadata": {},
   "source": [
    "### Check if the FbGraph is directional or not"
   ]
  },
  {
   "cell_type": "code",
   "execution_count": 6,
   "metadata": {},
   "outputs": [
    {
     "name": "stdout",
     "output_type": "stream",
     "text": [
      "False\n"
     ]
    }
   ],
   "source": [
    "print(nx.is_directed(FbGraph))"
   ]
  },
  {
   "cell_type": "markdown",
   "metadata": {},
   "source": [
    "## Now we will read a dot net file. \n",
    "## Dot net file is basically a pajek format"
   ]
  },
  {
   "cell_type": "code",
   "execution_count": 7,
   "metadata": {},
   "outputs": [],
   "source": [
    "footballGraph = nx.read_pajek('football.net')"
   ]
  },
  {
   "cell_type": "markdown",
   "metadata": {},
   "source": [
    "### Get basic info for footballGraph"
   ]
  },
  {
   "cell_type": "code",
   "execution_count": 8,
   "metadata": {},
   "outputs": [
    {
     "name": "stdout",
     "output_type": "stream",
     "text": [
      "Name: \n",
      "Type: MultiDiGraph\n",
      "Number of nodes: 35\n",
      "Number of edges: 118\n",
      "Average in degree:   3.3714\n",
      "Average out degree:   3.3714\n"
     ]
    }
   ],
   "source": [
    "print(nx.info(footballGraph))"
   ]
  },
  {
   "cell_type": "markdown",
   "metadata": {},
   "source": [
    "### Get number of nodes for footballGraph"
   ]
  },
  {
   "cell_type": "code",
   "execution_count": 9,
   "metadata": {},
   "outputs": [
    {
     "name": "stdout",
     "output_type": "stream",
     "text": [
      "35\n"
     ]
    }
   ],
   "source": [
    "print(nx.number_of_nodes(footballGraph))"
   ]
  },
  {
   "cell_type": "markdown",
   "metadata": {},
   "source": [
    "### Get number of edges for footballGraph"
   ]
  },
  {
   "cell_type": "code",
   "execution_count": 10,
   "metadata": {},
   "outputs": [
    {
     "name": "stdout",
     "output_type": "stream",
     "text": [
      "118\n"
     ]
    }
   ],
   "source": [
    "print(nx.number_of_edges(footballGraph))"
   ]
  },
  {
   "cell_type": "markdown",
   "metadata": {},
   "source": [
    "### Check if the footbalGraph is directional"
   ]
  },
  {
   "cell_type": "code",
   "execution_count": 11,
   "metadata": {},
   "outputs": [
    {
     "name": "stdout",
     "output_type": "stream",
     "text": [
      "True\n"
     ]
    }
   ],
   "source": [
    "print(nx.is_directed(footballGraph))"
   ]
  },
  {
   "cell_type": "markdown",
   "metadata": {},
   "source": [
    "## Analyze another file in pajek format"
   ]
  },
  {
   "cell_type": "code",
   "execution_count": 12,
   "metadata": {},
   "outputs": [],
   "source": [
    "karate_pajek_Graph = nx.read_pajek('karate.paj')"
   ]
  },
  {
   "cell_type": "markdown",
   "metadata": {},
   "source": [
    "## Get the basic info for karate_pajek_Graph"
   ]
  },
  {
   "cell_type": "code",
   "execution_count": 13,
   "metadata": {},
   "outputs": [
    {
     "name": "stdout",
     "output_type": "stream",
     "text": [
      "Name: \n",
      "Type: MultiGraph\n",
      "Number of nodes: 34\n",
      "Number of edges: 78\n",
      "Average degree:   4.5882\n"
     ]
    }
   ],
   "source": [
    "print(nx.info(karate_pajek_Graph))"
   ]
  },
  {
   "cell_type": "markdown",
   "metadata": {},
   "source": [
    "### Get number of nodes for karate_pajek_Graph "
   ]
  },
  {
   "cell_type": "code",
   "execution_count": 14,
   "metadata": {},
   "outputs": [
    {
     "name": "stdout",
     "output_type": "stream",
     "text": [
      "34\n"
     ]
    }
   ],
   "source": [
    "print(nx.number_of_nodes(karate_pajek_Graph))"
   ]
  },
  {
   "cell_type": "markdown",
   "metadata": {},
   "source": [
    "### Get number of edges for karate_pajek_Graph"
   ]
  },
  {
   "cell_type": "code",
   "execution_count": 15,
   "metadata": {},
   "outputs": [
    {
     "name": "stdout",
     "output_type": "stream",
     "text": [
      "78\n"
     ]
    }
   ],
   "source": [
    "print(nx.number_of_edges(karate_pajek_Graph))"
   ]
  },
  {
   "cell_type": "markdown",
   "metadata": {},
   "source": [
    "### Check if karate_pajek_Graph is directional"
   ]
  },
  {
   "cell_type": "code",
   "execution_count": 16,
   "metadata": {},
   "outputs": [
    {
     "name": "stdout",
     "output_type": "stream",
     "text": [
      "False\n"
     ]
    }
   ],
   "source": [
    "print(nx.is_directed(karate_pajek_Graph))"
   ]
  },
  {
   "cell_type": "markdown",
   "metadata": {},
   "source": [
    "## Next we will analyze a graphml formal file"
   ]
  },
  {
   "cell_type": "code",
   "execution_count": 17,
   "metadata": {},
   "outputs": [],
   "source": [
    "wiki_Graph = nx.read_graphml('vecwiki-20091230-manual-coding.graphml')"
   ]
  },
  {
   "cell_type": "markdown",
   "metadata": {},
   "source": [
    "## Get basic info for wikiGraph"
   ]
  },
  {
   "cell_type": "code",
   "execution_count": 18,
   "metadata": {},
   "outputs": [
    {
     "name": "stdout",
     "output_type": "stream",
     "text": [
      "Name: \n",
      "Type: DiGraph\n",
      "Number of nodes: 921\n",
      "Number of edges: 1081\n",
      "Average in degree:   1.1737\n",
      "Average out degree:   1.1737\n"
     ]
    }
   ],
   "source": [
    "print(nx.info(wiki_Graph))"
   ]
  },
  {
   "cell_type": "markdown",
   "metadata": {},
   "source": [
    "### Get number of nodes for wikiGraph"
   ]
  },
  {
   "cell_type": "code",
   "execution_count": 19,
   "metadata": {},
   "outputs": [
    {
     "name": "stdout",
     "output_type": "stream",
     "text": [
      "921\n"
     ]
    }
   ],
   "source": [
    "print(nx.number_of_nodes(wiki_Graph))"
   ]
  },
  {
   "cell_type": "markdown",
   "metadata": {},
   "source": [
    "### Get number of edges for wikiGraph"
   ]
  },
  {
   "cell_type": "code",
   "execution_count": 20,
   "metadata": {},
   "outputs": [
    {
     "name": "stdout",
     "output_type": "stream",
     "text": [
      "1081\n"
     ]
    }
   ],
   "source": [
    "print(nx.number_of_edges(wiki_Graph))"
   ]
  },
  {
   "cell_type": "markdown",
   "metadata": {},
   "source": [
    "### Check if the graph is directional"
   ]
  },
  {
   "cell_type": "code",
   "execution_count": 21,
   "metadata": {},
   "outputs": [
    {
     "name": "stdout",
     "output_type": "stream",
     "text": [
      "True\n"
     ]
    }
   ],
   "source": [
    "print(nx.is_directed(wiki_Graph))"
   ]
  },
  {
   "cell_type": "markdown",
   "metadata": {},
   "source": [
    "## Next we will perform further analysis on karate_pajek_Graph"
   ]
  },
  {
   "cell_type": "code",
   "execution_count": 22,
   "metadata": {},
   "outputs": [
    {
     "name": "stdout",
     "output_type": "stream",
     "text": [
      "Name: \n",
      "Type: MultiGraph\n",
      "Number of nodes: 34\n",
      "Number of edges: 78\n",
      "Average degree:   4.5882\n"
     ]
    }
   ],
   "source": [
    "print(nx.info(karate_pajek_Graph))"
   ]
  },
  {
   "cell_type": "markdown",
   "metadata": {},
   "source": [
    "## Let us visualize the karate_pajek_Graph"
   ]
  },
  {
   "cell_type": "code",
   "execution_count": 23,
   "metadata": {
    "scrolled": true
   },
   "outputs": [
    {
     "data": {
      "image/png": "[encoded data removed]",
      "text/plain": [
       "<Figure size 432x288 with 1 Axes>"
      ]
     },
     "metadata": {},
     "output_type": "display_data"
    }
   ],
   "source": [
    "nx.draw(karate_pajek_Graph)\n",
    "plt.show()"
   ]
  },
  {
   "cell_type": "markdown",
   "metadata": {},
   "source": [
    "## Let us visualize a Directed Graph\n",
    "### The footballGraph is a directed Graph"
   ]
  },
  {
   "cell_type": "code",
   "execution_count": 24,
   "metadata": {},
   "outputs": [
    {
     "data": {
      "image/png": "[encoded data removed]",
      "text/plain": [
       "<Figure size 432x288 with 1 Axes>"
      ]
     },
     "metadata": {},
     "output_type": "display_data"
    }
   ],
   "source": [
    "nx.draw(footballGraph)\n",
    "plt.show()"
   ]
  },
  {
   "cell_type": "markdown",
   "metadata": {},
   "source": [
    "## We will continue the rest of the analysis on karate_pajek_Graph"
   ]
  },
  {
   "cell_type": "code",
   "execution_count": 25,
   "metadata": {},
   "outputs": [
    {
     "data": {
      "image/png": "[encoded data removed]",
      "text/plain": [
       "<Figure size 432x288 with 1 Axes>"
      ]
     },
     "metadata": {},
     "output_type": "display_data"
    }
   ],
   "source": [
    "nx.draw_circular(karate_pajek_Graph)\n",
    "plt.show()"
   ]
  },
  {
   "cell_type": "markdown",
   "metadata": {},
   "source": [
    "### The draw_circular method will put all the nodes in a circular fashion, as we can see above."
   ]
  },
  {
   "cell_type": "markdown",
   "metadata": {},
   "source": [
    "## Now we will check the degree distribution.\n",
    "### Degree distribution will show how many nodes have a particular degree"
   ]
  },
  {
   "cell_type": "code",
   "execution_count": 26,
   "metadata": {},
   "outputs": [
    {
     "data": {
      "text/plain": [
       "MultiDegreeView({'1': 16, '2': 9, '3': 10, '4': 6, '5': 3, '6': 4, '7': 4, '8': 4, '9': 5, '10': 2, '11': 3, '12': 1, '13': 2, '14': 5, '15': 2, '16': 2, '17': 2, '18': 2, '19': 2, '20': 3, '21': 2, '22': 2, '23': 2, '24': 5, '25': 3, '26': 3, '27': 2, '28': 4, '29': 3, '30': 4, '31': 4, '32': 6, '33': 12, '34': 17})"
      ]
     },
     "execution_count": 26,
     "metadata": {},
     "output_type": "execute_result"
    }
   ],
   "source": [
    "degree_of_each_node = nx.degree(karate_pajek_Graph)\n",
    "degree_of_each_node"
   ]
  },
  {
   "cell_type": "markdown",
   "metadata": {},
   "source": [
    "### Above, we are getting the degree of each individual node in the graph. But our aim is to count the total \n",
    "### occurence of a particular degree. But since this is a MultiDegreeView, so our aim cannot\n",
    "### be achieved directly"
   ]
  },
  {
   "cell_type": "code",
   "execution_count": 27,
   "metadata": {
    "scrolled": false
   },
   "outputs": [
    {
     "data": {
      "text/plain": [
       "networkx.classes.reportviews.MultiDegreeView"
      ]
     },
     "execution_count": 27,
     "metadata": {},
     "output_type": "execute_result"
    }
   ],
   "source": [
    "type(degree_of_each_node)"
   ]
  },
  {
   "cell_type": "markdown",
   "metadata": {},
   "source": [
    "### We have to convert the type of degree_of_each_node to dict"
   ]
  },
  {
   "cell_type": "code",
   "execution_count": 28,
   "metadata": {},
   "outputs": [
    {
     "data": {
      "text/plain": [
       "{'1': 16,\n",
       " '2': 9,\n",
       " '3': 10,\n",
       " '4': 6,\n",
       " '5': 3,\n",
       " '6': 4,\n",
       " '7': 4,\n",
       " '8': 4,\n",
       " '9': 5,\n",
       " '10': 2,\n",
       " '11': 3,\n",
       " '12': 1,\n",
       " '13': 2,\n",
       " '14': 5,\n",
       " '15': 2,\n",
       " '16': 2,\n",
       " '17': 2,\n",
       " '18': 2,\n",
       " '19': 2,\n",
       " '20': 3,\n",
       " '21': 2,\n",
       " '22': 2,\n",
       " '23': 2,\n",
       " '24': 5,\n",
       " '25': 3,\n",
       " '26': 3,\n",
       " '27': 2,\n",
       " '28': 4,\n",
       " '29': 3,\n",
       " '30': 4,\n",
       " '31': 4,\n",
       " '32': 6,\n",
       " '33': 12,\n",
       " '34': 17}"
      ]
     },
     "execution_count": 28,
     "metadata": {},
     "output_type": "execute_result"
    }
   ],
   "source": [
    "degree_of_each_node = dict(degree_of_each_node)\n",
    "degree_of_each_node"
   ]
  },
  {
   "cell_type": "code",
   "execution_count": 29,
   "metadata": {
    "scrolled": true
   },
   "outputs": [
    {
     "data": {
      "text/plain": [
       "dict_values([16, 9, 10, 6, 3, 4, 4, 4, 5, 2, 3, 1, 2, 5, 2, 2, 2, 2, 2, 3, 2, 2, 2, 5, 3, 3, 2, 4, 3, 4, 4, 6, 12, 17])"
      ]
     },
     "execution_count": 29,
     "metadata": {},
     "output_type": "execute_result"
    }
   ],
   "source": [
    "degree_of_each_node.values()"
   ]
  },
  {
   "cell_type": "markdown",
   "metadata": {},
   "source": [
    "### Let us remove the dupliated values"
   ]
  },
  {
   "cell_type": "code",
   "execution_count": 30,
   "metadata": {
    "scrolled": true
   },
   "outputs": [
    {
     "data": {
      "text/plain": [
       "{1, 2, 3, 4, 5, 6, 9, 10, 12, 16, 17}"
      ]
     },
     "execution_count": 30,
     "metadata": {},
     "output_type": "execute_result"
    }
   ],
   "source": [
    "set(degree_of_each_node.values())"
   ]
  },
  {
   "cell_type": "code",
   "execution_count": 31,
   "metadata": {},
   "outputs": [],
   "source": [
    "def plot_deg_dist(G):\n",
    "\n",
    "    all_degrees = dict(nx.degree(G))\n",
    "    all_degree_values = list(all_degrees.values()) #Get all the degrees, i.e., individual degree of each individual node\n",
    "    unique_degrees = list(set(all_degree_values)) #Get only the unique degrees. Remove the duplicacies\n",
    "    \n",
    "    count_of_degrees = []\n",
    "    \n",
    "    for i in unique_degrees:\n",
    "        count = all_degree_values.count(i)\n",
    "        count_of_degrees.append(count)\n",
    "            \n",
    "    plt.plot(unique_degrees,count_of_degrees, '-o')\n",
    "    plt.xlabel('DEGREES')\n",
    "    plt.ylabel('COUNT OF NODES')\n",
    "    plt.title('DEGREE DISTRIBUTION OF GIVEN GRAPH')\n",
    "    plt.show()"
   ]
  },
  {
   "cell_type": "markdown",
   "metadata": {},
   "source": [
    "### Now we will call the above function"
   ]
  },
  {
   "cell_type": "code",
   "execution_count": 32,
   "metadata": {},
   "outputs": [
    {
     "data": {
      "image/png": "[encoded data removed]",
      "text/plain": [
       "<Figure size 432x288 with 1 Axes>"
      ]
     },
     "metadata": {
      "needs_background": "light"
     },
     "output_type": "display_data"
    }
   ],
   "source": [
    "plot_deg_dist(karate_pajek_Graph)"
   ]
  },
  {
   "cell_type": "markdown",
   "metadata": {},
   "source": [
    "### MOST OF THE REAL WORLD NETWORKS EXHIBIT POWER LAW DISTRIBUTIONS\n",
    "### It means there are very few nodes which have very high degree AND there are lot of nodes which have very less degree"
   ]
  },
  {
   "cell_type": "markdown",
   "metadata": {},
   "source": [
    "### Now let us check the log distribution"
   ]
  },
  {
   "cell_type": "code",
   "execution_count": 33,
   "metadata": {},
   "outputs": [],
   "source": [
    "def plot_log_dist(G):\n",
    "\n",
    "    all_degrees = dict(nx.degree(G))\n",
    "    all_degree_values = list(all_degrees.values()) #Get all the degrees, i.e., individual degree of each individual node\n",
    "    unique_degrees = list(set(all_degree_values)) #Get only the unique degrees. Remove the duplicacies\n",
    "    \n",
    "    count_of_degrees = []\n",
    "    \n",
    "    for i in unique_degrees:\n",
    "        count = all_degree_values.count(i)\n",
    "        count_of_degrees.append(count)\n",
    "            \n",
    "    plt.loglog(unique_degrees,count_of_degrees, '-o')\n",
    "    plt.xlabel('DEGREES')\n",
    "    plt.ylabel('COUNT OF NODES')\n",
    "    plt.title('DEGREE DISTRIBUTION OF GIVEN GRAPH')\n",
    "    plt.show()"
   ]
  },
  {
   "cell_type": "code",
   "execution_count": 34,
   "metadata": {},
   "outputs": [
    {
     "data": {
      "image/png": "[encoded data removed]",
      "text/plain": [
       "<Figure size 432x288 with 1 Axes>"
      ]
     },
     "metadata": {
      "needs_background": "light"
     },
     "output_type": "display_data"
    }
   ],
   "source": [
    "plot_log_dist(karate_pajek_Graph)"
   ]
  },
  {
   "cell_type": "markdown",
   "metadata": {},
   "source": [
    "## Now we will check the density\n",
    "### Density = Number of edges present/Total possible edges\n",
    "### Total possible edges = n choose 2 OR nC2\n",
    "### Where n is Number of NODES present"
   ]
  },
  {
   "cell_type": "markdown",
   "metadata": {},
   "source": [
    "### In a simple graph, the density value will be between 0 and 1\n",
    "### In an empty graph, the density will be ZERO\n",
    "### In a complete graph, density will be 1\n",
    "### In a multigraph, where MORE THAN 1 edges are allowed between 2 nodes, the density value can be more than one."
   ]
  },
  {
   "cell_type": "code",
   "execution_count": 35,
   "metadata": {},
   "outputs": [
    {
     "data": {
      "text/plain": [
       "0.13903743315508021"
      ]
     },
     "execution_count": 35,
     "metadata": {},
     "output_type": "execute_result"
    }
   ],
   "source": [
    "nx.density(karate_pajek_Graph)"
   ]
  },
  {
   "cell_type": "markdown",
   "metadata": {},
   "source": [
    "### Now let us check the density for a complete and an empty graph"
   ]
  },
  {
   "cell_type": "code",
   "execution_count": 36,
   "metadata": {},
   "outputs": [
    {
     "data": {
      "text/plain": [
       "1.0"
      ]
     },
     "execution_count": 36,
     "metadata": {},
     "output_type": "execute_result"
    }
   ],
   "source": [
    "C = nx.complete_graph(100)\n",
    "nx.density(C)"
   ]
  },
  {
   "cell_type": "code",
   "execution_count": 37,
   "metadata": {},
   "outputs": [
    {
     "data": {
      "text/plain": [
       "0"
      ]
     },
     "execution_count": 37,
     "metadata": {},
     "output_type": "execute_result"
    }
   ],
   "source": [
    "E = nx.Graph()\n",
    "E.add_nodes_from([1,2,3,4])\n",
    "nx.density(E)"
   ]
  },
  {
   "cell_type": "markdown",
   "metadata": {},
   "source": [
    "# Now let's check the clustering coefficient for wiki_graph"
   ]
  },
  {
   "cell_type": "markdown",
   "metadata": {},
   "source": [
    "## Clustering Coefficient = Actual Number of friendships/ Total possible friendships"
   ]
  },
  {
   "cell_type": "markdown",
   "metadata": {},
   "source": [
    "### For a given node, the clustering coefficient basically tells us the number of links that are present amongst the\n",
    "### neighbours of this node with respect to the total number of links that can be possible"
   ]
  },
  {
   "cell_type": "markdown",
   "metadata": {},
   "source": [
    "### Now let us find the lustering coefficient\n",
    "### The cluster method returns a dictionary for all the nodes as keys and their respective clustering \n",
    "### coefficient as values. So we will iterate through the dict."
   ]
  },
  {
   "cell_type": "code",
   "execution_count": 44,
   "metadata": {},
   "outputs": [
    {
     "name": "stdout",
     "output_type": "stream",
     "text": [
      "('n0', 0)\n",
      "('n1', 0.0017652544630961898)\n",
      "('n2', 0.5)\n",
      "('n3', 0.002526386705591736)\n",
      "('n4', 0)\n",
      "('n5', 0)\n",
      "('n6', 0)\n",
      "('n7', 0.0015725682724762196)\n",
      "('n8', 0)\n",
      "('n9', 0)\n",
      "('n10', 0)\n",
      "('n11', 0)\n",
      "('n12', 1.0)\n",
      "('n13', 0.04628355127322781)\n",
      "('n14', 0)\n",
      "('n15', 1.0)\n",
      "('n16', 0)\n",
      "('n17', 0)\n",
      "('n18', 0.08863198458574181)\n",
      "('n19', 0)\n",
      "('n20', 0)\n",
      "('n21', 0)\n",
      "('n22', 1.0)\n",
      "('n23', 0.021320637549161664)\n",
      "('n24', 0)\n",
      "('n25', 0)\n",
      "('n26', 0)\n",
      "('n27', 0.5)\n",
      "('n28', 0.1827309236947791)\n",
      "('n29', 0)\n",
      "('n30', 0)\n",
      "('n31', 1.0)\n",
      "('n32', 0.04352678571428571)\n",
      "('n33', 0)\n",
      "('n34', 0)\n",
      "('n35', 0)\n",
      "('n36', 0)\n",
      "('n37', 0.03896103896103896)\n",
      "('n38', 0)\n",
      "('n39', 0)\n",
      "('n40', 0)\n",
      "('n41', 0)\n",
      "('n42', 0)\n",
      "('n43', 0)\n",
      "('n44', 0)\n",
      "('n45', 0.5)\n",
      "('n46', 0)\n",
      "('n47', 0)\n",
      "('n48', 0)\n",
      "('n49', 0)\n",
      "('n50', 0)\n",
      "('n51', 0)\n",
      "('n52', 0)\n",
      "('n53', 0)\n",
      "('n54', 0)\n",
      "('n55', 0)\n",
      "('n56', 0)\n",
      "('n57', 0)\n",
      "('n58', 0)\n",
      "('n59', 0)\n",
      "('n60', 0)\n",
      "('n61', 0)\n",
      "('n62', 0)\n",
      "('n63', 0)\n",
      "('n64', 1.0)\n",
      "('n65', 0.25)\n",
      "('n66', 0)\n",
      "('n67', 0)\n",
      "('n68', 0)\n",
      "('n69', 0)\n",
      "('n70', 0)\n",
      "('n71', 0)\n",
      "('n72', 0)\n",
      "('n73', 0)\n",
      "('n74', 0)\n",
      "('n75', 0)\n",
      "('n76', 0.3384615384615385)\n",
      "('n77', 0.6341463414634146)\n",
      "('n78', 1.0)\n",
      "('n79', 0.5)\n",
      "('n80', 0.21818181818181817)\n",
      "('n81', 0)\n",
      "('n82', 0)\n",
      "('n83', 0)\n",
      "('n84', 0)\n",
      "('n85', 0)\n",
      "('n86', 0)\n",
      "('n87', 0)\n",
      "('n88', 0)\n",
      "('n89', 0)\n",
      "('n90', 0)\n",
      "('n91', 0)\n",
      "('n92', 0)\n",
      "('n93', 0)\n",
      "('n94', 0)\n",
      "('n95', 0)\n",
      "('n96', 1.0)\n",
      "('n97', 0)\n",
      "('n98', 0)\n",
      "('n99', 0.375)\n",
      "('n100', 0.5625)\n",
      "('n101', 0.2702702702702703)\n",
      "('n102', 0)\n",
      "('n103', 0)\n",
      "('n104', 0)\n",
      "('n105', 0)\n",
      "('n106', 0)\n",
      "('n107', 0)\n",
      "('n108', 0)\n",
      "('n109', 0.5)\n",
      "('n110', 1.0)\n",
      "('n111', 0)\n",
      "('n112', 0)\n",
      "('n113', 0)\n",
      "('n114', 0)\n",
      "('n115', 0)\n",
      "('n116', 0)\n",
      "('n117', 0)\n",
      "('n118', 0.37254901960784315)\n",
      "('n119', 0.5)\n",
      "('n120', 0)\n",
      "('n121', 0)\n",
      "('n122', 0)\n",
      "('n123', 0)\n",
      "('n124', 0)\n",
      "('n125', 0)\n",
      "('n126', 0)\n",
      "('n127', 0.6666666666666666)\n",
      "('n128', 0)\n",
      "('n129', 0)\n",
      "('n130', 0)\n",
      "('n131', 0.3333333333333333)\n",
      "('n132', 0)\n",
      "('n133', 0.14285714285714285)\n",
      "('n134', 0)\n",
      "('n135', 0)\n",
      "('n136', 0)\n",
      "('n137', 0)\n",
      "('n138', 0)\n",
      "('n139', 0)\n",
      "('n140', 0)\n",
      "('n141', 0)\n",
      "('n142', 0)\n",
      "('n143', 0)\n",
      "('n144', 0)\n",
      "('n145', 0)\n",
      "('n146', 0)\n",
      "('n147', 0)\n",
      "('n148', 0)\n",
      "('n149', 0)\n",
      "('n150', 0)\n",
      "('n151', 0)\n",
      "('n152', 0)\n",
      "('n153', 0)\n",
      "('n154', 0)\n",
      "('n155', 0)\n",
      "('n156', 0)\n",
      "('n157', 1.0)\n",
      "('n158', 0)\n",
      "('n159', 0)\n",
      "('n160', 0)\n",
      "('n161', 0)\n",
      "('n162', 0)\n",
      "('n163', 0)\n",
      "('n164', 0)\n",
      "('n165', 0)\n",
      "('n166', 0)\n",
      "('n167', 0)\n",
      "('n168', 0)\n",
      "('n169', 0)\n",
      "('n170', 0)\n",
      "('n171', 0.47368421052631576)\n",
      "('n172', 1.0)\n",
      "('n173', 0)\n",
      "('n174', 0)\n",
      "('n175', 0)\n",
      "('n176', 0)\n",
      "('n177', 0)\n",
      "('n178', 0)\n",
      "('n179', 0)\n",
      "('n180', 0)\n",
      "('n181', 0)\n",
      "('n182', 0)\n",
      "('n183', 0)\n",
      "('n184', 0)\n",
      "('n185', 0)\n",
      "('n186', 0)\n",
      "('n187', 0)\n",
      "('n188', 0)\n",
      "('n189', 0)\n",
      "('n190', 0)\n",
      "('n191', 1.0)\n",
      "('n192', 0.5)\n",
      "('n193', 0)\n",
      "('n194', 0)\n",
      "('n195', 0)\n",
      "('n196', 0)\n",
      "('n197', 0)\n",
      "('n198', 0)\n",
      "('n199', 0)\n",
      "('n200', 0)\n",
      "('n201', 0)\n",
      "('n202', 0)\n",
      "('n203', 0.5)\n",
      "('n204', 0)\n",
      "('n205', 0)\n",
      "('n206', 0)\n",
      "('n207', 0)\n",
      "('n208', 0)\n",
      "('n209', 0)\n",
      "('n210', 0)\n",
      "('n211', 0)\n",
      "('n212', 0)\n",
      "('n213', 0)\n",
      "('n214', 0)\n",
      "('n215', 0)\n",
      "('n216', 0)\n",
      "('n217', 0)\n",
      "('n218', 0)\n",
      "('n219', 0)\n",
      "('n220', 0)\n",
      "('n221', 0)\n",
      "('n222', 0)\n",
      "('n223', 0)\n",
      "('n224', 0)\n",
      "('n225', 0)\n",
      "('n226', 0)\n",
      "('n227', 0)\n",
      "('n228', 0)\n",
      "('n229', 0)\n",
      "('n230', 0)\n",
      "('n231', 0)\n",
      "('n232', 1.0)\n",
      "('n233', 0)\n",
      "('n234', 0)\n",
      "('n235', 0)\n",
      "('n236', 1.0)\n",
      "('n237', 0)\n",
      "('n238', 0)\n",
      "('n239', 0)\n",
      "('n240', 0)\n",
      "('n241', 0)\n",
      "('n242', 0)\n",
      "('n243', 0)\n",
      "('n244', 0)\n",
      "('n245', 0)\n",
      "('n246', 0)\n",
      "('n247', 0)\n",
      "('n248', 0)\n",
      "('n249', 0)\n",
      "('n250', 0)\n",
      "('n251', 0)\n",
      "('n252', 0)\n",
      "('n253', 0)\n",
      "('n254', 0)\n",
      "('n255', 0)\n",
      "('n256', 0)\n",
      "('n257', 0)\n",
      "('n258', 0)\n",
      "('n259', 0)\n",
      "('n260', 0)\n",
      "('n261', 0)\n",
      "('n262', 0)\n",
      "('n263', 0)\n",
      "('n264', 0)\n",
      "('n265', 0)\n",
      "('n266', 0)\n",
      "('n267', 0)\n",
      "('n268', 0)\n",
      "('n269', 0)\n",
      "('n270', 0)\n",
      "('n271', 0)\n",
      "('n272', 0)\n",
      "('n273', 0)\n",
      "('n274', 0)\n",
      "('n275', 0)\n",
      "('n276', 0)\n",
      "('n277', 0)\n",
      "('n278', 0)\n",
      "('n279', 0)\n",
      "('n280', 0)\n",
      "('n281', 0)\n",
      "('n282', 0)\n",
      "('n283', 0.5)\n",
      "('n284', 0.3392857142857143)\n",
      "('n285', 0)\n",
      "('n286', 0)\n",
      "('n287', 0)\n",
      "('n288', 0)\n",
      "('n289', 0.38461538461538464)\n",
      "('n290', 0)\n",
      "('n291', 0)\n",
      "('n292', 0)\n",
      "('n293', 0)\n",
      "('n294', 0)\n",
      "('n295', 0)\n",
      "('n296', 0)\n",
      "('n297', 0)\n",
      "('n298', 0)\n",
      "('n299', 0)\n",
      "('n300', 0)\n",
      "('n301', 0)\n",
      "('n302', 0)\n",
      "('n303', 0)\n",
      "('n304', 1.0)\n",
      "('n305', 0)\n",
      "('n306', 0)\n",
      "('n307', 0)\n",
      "('n308', 0)\n",
      "('n309', 0)\n",
      "('n310', 0)\n",
      "('n311', 0)\n",
      "('n312', 0)\n",
      "('n313', 0)\n",
      "('n314', 0)\n",
      "('n315', 0)\n",
      "('n316', 0)\n",
      "('n317', 0)\n",
      "('n318', 0)\n",
      "('n319', 0)\n",
      "('n320', 1.0)\n",
      "('n321', 0)\n",
      "('n322', 1.0)\n",
      "('n323', 0)\n",
      "('n324', 0)\n",
      "('n325', 0)\n",
      "('n326', 1.0)\n",
      "('n327', 0)\n",
      "('n328', 0.5)\n",
      "('n329', 0)\n",
      "('n330', 0)\n",
      "('n331', 0)\n",
      "('n332', 0)\n",
      "('n333', 0.5)\n",
      "('n334', 0)\n",
      "('n335', 0)\n",
      "('n336', 0)\n",
      "('n337', 0.75)\n",
      "('n338', 0.6)\n",
      "('n339', 0.6111111111111112)\n",
      "('n340', 1.0)\n",
      "('n341', 1.0)\n",
      "('n342', 0)\n",
      "('n343', 0)\n",
      "('n344', 0.5384615384615384)\n",
      "('n345', 0)\n",
      "('n346', 0)\n",
      "('n347', 1.0)\n",
      "('n348', 0)\n",
      "('n349', 0)\n",
      "('n350', 0)\n",
      "('n351', 0)\n",
      "('n352', 0)\n",
      "('n353', 0)\n",
      "('n354', 0)\n",
      "('n355', 0)\n",
      "('n356', 0)\n",
      "('n357', 0)\n",
      "('n358', 0)\n",
      "('n359', 0)\n",
      "('n360', 0)\n",
      "('n361', 0)\n",
      "('n362', 0)\n",
      "('n363', 0)\n",
      "('n364', 0)\n",
      "('n365', 0)\n",
      "('n366', 0)\n",
      "('n367', 0)\n",
      "('n368', 0)\n",
      "('n369', 0)\n",
      "('n370', 1.0)\n",
      "('n371', 1.0)\n",
      "('n372', 0)\n",
      "('n373', 0)\n",
      "('n374', 0)\n",
      "('n375', 0)\n",
      "('n376', 0.15)\n",
      "('n377', 0.38461538461538464)\n",
      "('n378', 0)\n",
      "('n379', 0)\n",
      "('n380', 0)\n",
      "('n381', 0)\n",
      "('n382', 0)\n",
      "('n383', 0)\n",
      "('n384', 0)\n",
      "('n385', 0)\n",
      "('n386', 0)\n",
      "('n387', 0)\n",
      "('n388', 0)\n",
      "('n389', 0)\n",
      "('n390', 0)\n",
      "('n391', 0)\n",
      "('n392', 0)\n",
      "('n393', 0)\n",
      "('n394', 0)\n",
      "('n395', 0)\n",
      "('n396', 0)\n",
      "('n397', 0)\n",
      "('n398', 0)\n",
      "('n399', 0)\n",
      "('n400', 0)\n",
      "('n401', 0)\n",
      "('n402', 1.0)\n",
      "('n403', 0)\n",
      "('n404', 0)\n",
      "('n405', 0)\n",
      "('n406', 0)\n",
      "('n407', 0)\n",
      "('n408', 0)\n",
      "('n409', 0)\n",
      "('n410', 0)\n",
      "('n411', 0)\n",
      "('n412', 0)\n",
      "('n413', 0)\n",
      "('n414', 0)\n",
      "('n415', 0)\n",
      "('n416', 0)\n",
      "('n417', 0)\n",
      "('n418', 0)\n",
      "('n419', 0)\n",
      "('n420', 0)\n",
      "('n421', 0)\n",
      "('n422', 0)\n",
      "('n423', 0.5)\n",
      "('n424', 0)\n",
      "('n425', 0)\n",
      "('n426', 0)\n",
      "('n427', 0)\n",
      "('n428', 0)\n",
      "('n429', 1.0)\n",
      "('n430', 0)\n",
      "('n431', 0)\n",
      "('n432', 0)\n",
      "('n433', 0)\n",
      "('n434', 0)\n",
      "('n435', 0)\n",
      "('n436', 0)\n",
      "('n437', 0)\n",
      "('n438', 0)\n",
      "('n439', 0)\n",
      "('n440', 0)\n",
      "('n441', 0)\n",
      "('n442', 0)\n",
      "('n443', 0)\n",
      "('n444', 0)\n",
      "('n445', 0)\n",
      "('n446', 0)\n",
      "('n447', 0)\n",
      "('n448', 0)\n",
      "('n449', 0)\n",
      "('n450', 0)\n",
      "('n451', 0)\n",
      "('n452', 0)\n",
      "('n453', 0)\n",
      "('n454', 0)\n",
      "('n455', 0)\n",
      "('n456', 0)\n",
      "('n457', 0)\n",
      "('n458', 0)\n",
      "('n459', 0)\n",
      "('n460', 0)\n",
      "('n461', 0.5384615384615384)\n",
      "('n462', 0)\n",
      "('n463', 0)\n",
      "('n464', 0)\n",
      "('n465', 0)\n",
      "('n466', 0)\n",
      "('n467', 0)\n",
      "('n468', 0)\n",
      "('n469', 0)\n",
      "('n470', 0)\n",
      "('n471', 0)\n",
      "('n472', 1.0)\n",
      "('n473', 0)\n",
      "('n474', 0)\n",
      "('n475', 0)\n",
      "('n476', 0)\n",
      "('n477', 0)\n",
      "('n478', 0)\n",
      "('n479', 0)\n",
      "('n480', 0)\n",
      "('n481', 0)\n",
      "('n482', 0)\n",
      "('n483', 0)\n",
      "('n484', 0)\n",
      "('n485', 0)\n",
      "('n486', 0)\n",
      "('n487', 0)\n",
      "('n488', 0)\n",
      "('n489', 0)\n",
      "('n490', 0)\n",
      "('n491', 0)\n",
      "('n492', 0)\n",
      "('n493', 0)\n",
      "('n494', 0)\n",
      "('n495', 0)\n",
      "('n496', 0)\n",
      "('n497', 0.16666666666666666)\n",
      "('n498', 0)\n",
      "('n499', 0)\n",
      "('n500', 0.6)\n",
      "('n501', 0)\n",
      "('n502', 0)\n",
      "('n503', 0)\n",
      "('n504', 1.0)\n",
      "('n505', 0)\n",
      "('n506', 0)\n",
      "('n507', 0)\n",
      "('n508', 0)\n",
      "('n509', 1.0)\n",
      "('n510', 0)\n",
      "('n511', 0)\n",
      "('n512', 0)\n",
      "('n513', 0)\n",
      "('n514', 0)\n",
      "('n515', 0)\n",
      "('n516', 0)\n",
      "('n517', 0)\n",
      "('n518', 0)\n",
      "('n519', 0.25)\n",
      "('n520', 0)\n",
      "('n521', 0)\n",
      "('n522', 0)\n",
      "('n523', 0)\n",
      "('n524', 0)\n",
      "('n525', 0)\n",
      "('n526', 0)\n",
      "('n527', 0)\n",
      "('n528', 0)\n",
      "('n529', 0)\n",
      "('n530', 0)\n",
      "('n531', 0)\n",
      "('n532', 0)\n",
      "('n533', 0)\n",
      "('n534', 0)\n",
      "('n535', 0)\n",
      "('n536', 1.0)\n",
      "('n537', 0)\n",
      "('n538', 0)\n",
      "('n539', 0)\n",
      "('n540', 0)\n",
      "('n541', 0)\n",
      "('n542', 0)\n",
      "('n543', 0)\n",
      "('n544', 0)\n",
      "('n545', 0)\n",
      "('n546', 0)\n",
      "('n547', 0)\n",
      "('n548', 0)\n",
      "('n549', 0)\n",
      "('n550', 0)\n",
      "('n551', 0.5)\n",
      "('n552', 0.2976190476190476)\n",
      "('n553', 0)\n",
      "('n554', 0)\n",
      "('n555', 0)\n",
      "('n556', 0)\n",
      "('n557', 0)\n",
      "('n558', 0)\n",
      "('n559', 0)\n",
      "('n560', 0)\n",
      "('n561', 0)\n",
      "('n562', 0)\n",
      "('n563', 0)\n",
      "('n564', 0)\n",
      "('n565', 0)\n",
      "('n566', 0)\n",
      "('n567', 1.0)\n",
      "('n568', 0)\n",
      "('n569', 0)\n",
      "('n570', 0)\n",
      "('n571', 0)\n",
      "('n572', 0)\n",
      "('n573', 0)\n",
      "('n574', 0)\n",
      "('n575', 0)\n",
      "('n576', 0)\n",
      "('n577', 0)\n",
      "('n578', 0)\n",
      "('n579', 0)\n",
      "('n580', 0)\n",
      "('n581', 0)\n",
      "('n582', 0)\n",
      "('n583', 0)\n",
      "('n584', 0)\n",
      "('n585', 0)\n",
      "('n586', 0)\n",
      "('n587', 0)\n",
      "('n588', 0)\n",
      "('n589', 0)\n",
      "('n590', 0)\n",
      "('n591', 0)\n",
      "('n592', 0)\n",
      "('n593', 0)\n",
      "('n594', 0)\n",
      "('n595', 0)\n",
      "('n596', 0)\n",
      "('n597', 0)\n",
      "('n598', 0)\n",
      "('n599', 0)\n",
      "('n600', 0)\n",
      "('n601', 0)\n",
      "('n602', 0)\n",
      "('n603', 0)\n",
      "('n604', 0)\n",
      "('n605', 0)\n",
      "('n606', 0)\n",
      "('n607', 0)\n",
      "('n608', 0)\n",
      "('n609', 0)\n",
      "('n610', 0)\n",
      "('n611', 0)\n",
      "('n612', 0)\n",
      "('n613', 0.40476190476190477)\n",
      "('n614', 0)\n",
      "('n615', 0.5)\n",
      "('n616', 0)\n",
      "('n617', 0)\n",
      "('n618', 0)\n",
      "('n619', 0)\n",
      "('n620', 0)\n",
      "('n621', 0)\n",
      "('n622', 0)\n",
      "('n623', 0)\n",
      "('n624', 0)\n",
      "('n625', 0)\n",
      "('n626', 0)\n",
      "('n627', 0)\n",
      "('n628', 0)\n",
      "('n629', 0)\n",
      "('n630', 0)\n",
      "('n631', 0)\n",
      "('n632', 0)\n",
      "('n633', 0)\n",
      "('n634', 0)\n",
      "('n635', 0)\n",
      "('n636', 0)\n",
      "('n637', 0)\n",
      "('n638', 0)\n",
      "('n639', 0)\n",
      "('n640', 0)\n",
      "('n641', 0)\n",
      "('n642', 0)\n",
      "('n643', 0)\n",
      "('n644', 0)\n",
      "('n645', 0)\n",
      "('n646', 0)\n",
      "('n647', 0)\n",
      "('n648', 0)\n",
      "('n649', 0)\n",
      "('n650', 0)\n",
      "('n651', 0)\n",
      "('n652', 0)\n",
      "('n653', 0)\n",
      "('n654', 0)\n",
      "('n655', 0)\n",
      "('n656', 0)\n",
      "('n657', 0)\n",
      "('n658', 0)\n",
      "('n659', 0)\n",
      "('n660', 0)\n",
      "('n661', 0)\n",
      "('n662', 0)\n",
      "('n663', 0)\n",
      "('n664', 0)\n",
      "('n665', 0)\n",
      "('n666', 0)\n",
      "('n667', 0)\n",
      "('n668', 0)\n",
      "('n669', 0)\n",
      "('n670', 0)\n",
      "('n671', 0)\n",
      "('n672', 0)\n",
      "('n673', 0)\n",
      "('n674', 0)\n",
      "('n675', 0)\n",
      "('n676', 0)\n",
      "('n677', 0)\n",
      "('n678', 0)\n",
      "('n679', 0)\n",
      "('n680', 0)\n",
      "('n681', 0)\n",
      "('n682', 0)\n",
      "('n683', 0)\n",
      "('n684', 0)\n",
      "('n685', 0)\n",
      "('n686', 0)\n",
      "('n687', 0)\n",
      "('n688', 0)\n",
      "('n689', 0)\n",
      "('n690', 0)\n",
      "('n691', 0)\n",
      "('n692', 0)\n",
      "('n693', 0)\n",
      "('n694', 0)\n",
      "('n695', 0)\n",
      "('n696', 0)\n",
      "('n697', 0)\n",
      "('n698', 0)\n",
      "('n699', 0)\n",
      "('n700', 0)\n",
      "('n701', 0)\n",
      "('n702', 0)\n",
      "('n703', 0)\n",
      "('n704', 0)\n",
      "('n705', 0)\n",
      "('n706', 0)\n",
      "('n707', 0)\n",
      "('n708', 0)\n",
      "('n709', 0)\n",
      "('n710', 0)\n",
      "('n711', 0)\n",
      "('n712', 0)\n",
      "('n713', 0)\n",
      "('n714', 0)\n",
      "('n715', 0)\n",
      "('n716', 0)\n",
      "('n717', 0)\n",
      "('n718', 0)\n",
      "('n719', 0)\n",
      "('n720', 0)\n",
      "('n721', 0)\n",
      "('n722', 0)\n",
      "('n723', 0)\n",
      "('n724', 0)\n",
      "('n725', 0)\n",
      "('n726', 0)\n",
      "('n727', 0)\n",
      "('n728', 0)\n",
      "('n729', 0)\n",
      "('n730', 0)\n",
      "('n731', 0)\n",
      "('n732', 0)\n",
      "('n733', 0)\n",
      "('n734', 0)\n",
      "('n735', 0)\n",
      "('n736', 0)\n",
      "('n737', 0)\n",
      "('n738', 0)\n",
      "('n739', 0)\n",
      "('n740', 0)\n",
      "('n741', 0)\n",
      "('n742', 0)\n",
      "('n743', 0)\n",
      "('n744', 0)\n",
      "('n745', 0)\n",
      "('n746', 0)\n",
      "('n747', 0)\n",
      "('n748', 0)\n",
      "('n749', 0)\n",
      "('n750', 0)\n",
      "('n751', 0)\n",
      "('n752', 0)\n",
      "('n753', 0)\n",
      "('n754', 0)\n",
      "('n755', 0)\n",
      "('n756', 0)\n",
      "('n757', 0)\n",
      "('n758', 0)\n",
      "('n759', 0)\n",
      "('n760', 0)\n",
      "('n761', 0)\n",
      "('n762', 0)\n",
      "('n763', 0)\n",
      "('n764', 0)\n",
      "('n765', 0)\n",
      "('n766', 0)\n",
      "('n767', 0)\n",
      "('n768', 0)\n",
      "('n769', 0)\n",
      "('n770', 0)\n",
      "('n771', 0)\n",
      "('n772', 0)\n",
      "('n773', 0)\n",
      "('n774', 0)\n",
      "('n775', 0)\n",
      "('n776', 0)\n",
      "('n777', 0)\n",
      "('n778', 0)\n",
      "('n779', 0)\n",
      "('n780', 0)\n",
      "('n781', 0)\n",
      "('n782', 0)\n",
      "('n783', 0)\n",
      "('n784', 0)\n",
      "('n785', 0)\n",
      "('n786', 0)\n",
      "('n787', 0)\n",
      "('n788', 0)\n",
      "('n789', 0)\n",
      "('n790', 0)\n",
      "('n791', 0)\n",
      "('n792', 0)\n",
      "('n793', 0)\n",
      "('n794', 0)\n",
      "('n795', 0)\n",
      "('n796', 0)\n",
      "('n797', 0)\n",
      "('n798', 0)\n",
      "('n799', 0)\n",
      "('n800', 0)\n",
      "('n801', 0)\n",
      "('n802', 0)\n",
      "('n803', 0)\n",
      "('n804', 0)\n",
      "('n805', 0)\n",
      "('n806', 0)\n",
      "('n807', 0)\n",
      "('n808', 0)\n",
      "('n809', 0)\n",
      "('n810', 0)\n",
      "('n811', 0)\n",
      "('n812', 0)\n",
      "('n813', 0)\n",
      "('n814', 0)\n",
      "('n815', 0)\n",
      "('n816', 0)\n",
      "('n817', 0)\n",
      "('n818', 0)\n",
      "('n819', 0.8333333333333334)\n",
      "('n820', 0)\n",
      "('n821', 0)\n",
      "('n822', 0)\n",
      "('n823', 0)\n",
      "('n824', 0)\n",
      "('n825', 0)\n",
      "('n826', 0)\n",
      "('n827', 0)\n",
      "('n828', 0)\n",
      "('n829', 0)\n",
      "('n830', 0)\n",
      "('n831', 0)\n",
      "('n832', 0)\n",
      "('n833', 0)\n",
      "('n834', 0)\n",
      "('n835', 0)\n",
      "('n836', 0)\n",
      "('n837', 0)\n",
      "('n838', 0)\n",
      "('n839', 0)\n",
      "('n840', 0)\n",
      "('n841', 0)\n",
      "('n842', 0)\n",
      "('n843', 0)\n",
      "('n844', 0)\n",
      "('n845', 0)\n",
      "('n846', 0)\n",
      "('n847', 0)\n",
      "('n848', 0)\n",
      "('n849', 0)\n",
      "('n850', 0)\n",
      "('n851', 0)\n",
      "('n852', 0)\n",
      "('n853', 0)\n",
      "('n854', 0)\n",
      "('n855', 0)\n",
      "('n856', 0)\n",
      "('n857', 0)\n",
      "('n858', 0.5714285714285714)\n",
      "('n859', 0)\n",
      "('n860', 0)\n",
      "('n861', 0)\n",
      "('n862', 0)\n",
      "('n863', 0)\n",
      "('n864', 0)\n",
      "('n865', 0)\n",
      "('n866', 0)\n",
      "('n867', 0)\n",
      "('n868', 0)\n",
      "('n869', 0)\n",
      "('n870', 0)\n",
      "('n871', 0)\n",
      "('n872', 0)\n",
      "('n873', 0)\n",
      "('n874', 0)\n",
      "('n875', 0)\n",
      "('n876', 0)\n",
      "('n877', 0)\n",
      "('n878', 0)\n",
      "('n879', 0)\n",
      "('n880', 0)\n",
      "('n881', 0)\n",
      "('n882', 0)\n",
      "('n883', 0)\n",
      "('n884', 0)\n",
      "('n885', 0)\n",
      "('n886', 0)\n",
      "('n887', 0)\n",
      "('n888', 0)\n",
      "('n889', 0)\n",
      "('n890', 0)\n",
      "('n891', 0)\n",
      "('n892', 0)\n",
      "('n893', 0)\n",
      "('n894', 0)\n",
      "('n895', 0)\n",
      "('n896', 0)\n",
      "('n897', 0)\n",
      "('n898', 0)\n",
      "('n899', 0)\n",
      "('n900', 0)\n",
      "('n901', 0)\n",
      "('n902', 0)\n",
      "('n903', 0)\n",
      "('n904', 0)\n",
      "('n905', 0)\n",
      "('n906', 0)\n",
      "('n907', 0)\n",
      "('n908', 0)\n",
      "('n909', 0)\n",
      "('n910', 0)\n",
      "('n911', 0)\n",
      "('n912', 0)\n",
      "('n913', 0)\n",
      "('n914', 0)\n",
      "('n915', 0)\n",
      "('n916', 0)\n",
      "('n917', 0)\n",
      "('n918', 0)\n",
      "('n919', 0)\n",
      "('n920', 0)\n"
     ]
    }
   ],
   "source": [
    "for i in nx.clustering(wiki_Graph).items():\n",
    "    print(i)"
   ]
  },
  {
   "cell_type": "markdown",
   "metadata": {},
   "source": [
    "#### Let us Calculate the average clustering for wiki_graph"
   ]
  },
  {
   "cell_type": "code",
   "execution_count": 46,
   "metadata": {},
   "outputs": [
    {
     "data": {
      "text/plain": [
       "0.05264422330938973"
      ]
     },
     "execution_count": 46,
     "metadata": {},
     "output_type": "execute_result"
    }
   ],
   "source": [
    "nx.average_clustering(wiki_Graph)"
   ]
  },
  {
   "cell_type": "markdown",
   "metadata": {},
   "source": [
    "### Now let us check the diameter property\n",
    "#### Diameter is the maximum shortest path that we have to travel to go from one node to the other\n",
    "#### In other words, it is the shortest path between two most distant nodes in the network"
   ]
  },
  {
   "cell_type": "code",
   "execution_count": 47,
   "metadata": {},
   "outputs": [
    {
     "data": {
      "text/plain": [
       "5"
      ]
     },
     "execution_count": 47,
     "metadata": {},
     "output_type": "execute_result"
    }
   ],
   "source": [
    "nx.diameter(karate_pajek_Graph)"
   ]
  },
  {
   "cell_type": "markdown",
   "metadata": {},
   "source": [
    "### Its basically observed that in Real World Networks, the diameter is very less because the nodes are very well\n",
    "### connected to each other and the distance between them is very small."
   ]
  }
 ],
 "metadata": {
  "kernelspec": {
   "display_name": "Python 3",
   "language": "python",
   "name": "python3"
  },
  "language_info": {
   "codemirror_mode": {
    "name": "ipython",
    "version": 3
   },
   "file_extension": ".py",
   "mimetype": "text/x-python",
   "name": "python",
   "nbconvert_exporter": "python",
   "pygments_lexer": "ipython3",
   "version": "3.7.3"
  }
 },
 "nbformat": 4,
 "nbformat_minor": 2
}
